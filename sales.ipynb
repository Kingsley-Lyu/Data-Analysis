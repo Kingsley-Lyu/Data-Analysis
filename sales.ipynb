{
 "cells": [
  {
   "cell_type": "code",
   "execution_count": 57,
   "id": "e900afbb-c270-4732-ac7f-095f316b2ba1",
   "metadata": {},
   "outputs": [],
   "source": [
    "import pandas as pd\n",
    "import os"
   ]
  },
  {
   "cell_type": "markdown",
   "id": "47752f8a-db1b-4b8a-8e8c-cc1a957dd400",
   "metadata": {},
   "source": [
    "#### Merge 12 months of sales data into one file"
   ]
  },
  {
   "cell_type": "code",
   "execution_count": 3,
   "id": "b8dd7800-7032-4fb7-84db-d3d725d37670",
   "metadata": {},
   "outputs": [],
   "source": [
    "df = pd.read_csv(\"./Sales_Data/Sales_April_2019.csv\")\n",
    "\n",
    "files = [file for file in os.listdir(\"./Sales_Data\")]\n",
    "total_month_data = pd.DataFrame()\n",
    "for file in files:\n",
    "    df = pd.read_csv(\"./Sales_Data/\"+file)\n",
    "    total_month_data = pd.concat([total_month_data, df])\n",
    "\n",
    "total_month_data.to_csv(\"total_data.csv\", index=False)"
   ]
  },
  {
   "cell_type": "markdown",
   "id": "bee3693b-c793-40a4-9da4-21c7bc5fa9bc",
   "metadata": {},
   "source": [
    "#### Read in updated dataframe"
   ]
  },
  {
   "cell_type": "code",
   "execution_count": 4,
   "id": "df8df088-8a39-4012-899f-fb8ea30523a7",
   "metadata": {},
   "outputs": [],
   "source": [
    "total_data = pd.read_csv(\"total_data.csv\")"
   ]
  },
  {
   "cell_type": "markdown",
   "id": "5186fef5-fa59-44f3-8296-c74bdf6baf0c",
   "metadata": {},
   "source": [
    "#### Clean up the data(drop rows of NAN)"
   ]
  },
  {
   "cell_type": "code",
   "execution_count": 5,
   "id": "5f23e5c4-8356-4a00-86cf-887e2498b9f0",
   "metadata": {},
   "outputs": [],
   "source": [
    "nan_df = total_data[total_data.isna().any(axis=1)]\n",
    "nan_df.head()\n",
    "\n",
    "total_data = total_data.dropna(how='any')"
   ]
  },
  {
   "cell_type": "markdown",
   "id": "c1cbb811-dce9-4c83-909b-5eae40ccdc47",
   "metadata": {},
   "source": [
    "#### Find 'Or' and drop them"
   ]
  },
  {
   "cell_type": "code",
   "execution_count": 6,
   "id": "85f6d546-ec06-484a-b840-b6e8cf128193",
   "metadata": {},
   "outputs": [],
   "source": [
    "total_data = total_data[total_data['Order Date'].str[0:2] != 'Or']"
   ]
  },
  {
   "cell_type": "markdown",
   "id": "f2d96ec4-8eb3-411f-961c-ad6682daaf93",
   "metadata": {},
   "source": [
    "#### Add month column"
   ]
  },
  {
   "cell_type": "code",
   "execution_count": 7,
   "id": "317d7449-a10f-4335-8460-b4e8e55eee69",
   "metadata": {},
   "outputs": [
    {
     "data": {
      "text/html": [
       "<div>\n",
       "<style scoped>\n",
       "    .dataframe tbody tr th:only-of-type {\n",
       "        vertical-align: middle;\n",
       "    }\n",
       "\n",
       "    .dataframe tbody tr th {\n",
       "        vertical-align: top;\n",
       "    }\n",
       "\n",
       "    .dataframe thead th {\n",
       "        text-align: right;\n",
       "    }\n",
       "</style>\n",
       "<table border=\"1\" class=\"dataframe\">\n",
       "  <thead>\n",
       "    <tr style=\"text-align: right;\">\n",
       "      <th></th>\n",
       "      <th>Order ID</th>\n",
       "      <th>Product</th>\n",
       "      <th>Quantity Ordered</th>\n",
       "      <th>Price Each</th>\n",
       "      <th>Order Date</th>\n",
       "      <th>Purchase Address</th>\n",
       "      <th>Month</th>\n",
       "    </tr>\n",
       "  </thead>\n",
       "  <tbody>\n",
       "    <tr>\n",
       "      <th>0</th>\n",
       "      <td>176558</td>\n",
       "      <td>USB-C Charging Cable</td>\n",
       "      <td>2</td>\n",
       "      <td>11.95</td>\n",
       "      <td>04/19/19 08:46</td>\n",
       "      <td>917 1st St, Dallas, TX 75001</td>\n",
       "      <td>4</td>\n",
       "    </tr>\n",
       "    <tr>\n",
       "      <th>2</th>\n",
       "      <td>176559</td>\n",
       "      <td>Bose SoundSport Headphones</td>\n",
       "      <td>1</td>\n",
       "      <td>99.99</td>\n",
       "      <td>04/07/19 22:30</td>\n",
       "      <td>682 Chestnut St, Boston, MA 02215</td>\n",
       "      <td>4</td>\n",
       "    </tr>\n",
       "    <tr>\n",
       "      <th>3</th>\n",
       "      <td>176560</td>\n",
       "      <td>Google Phone</td>\n",
       "      <td>1</td>\n",
       "      <td>600</td>\n",
       "      <td>04/12/19 14:38</td>\n",
       "      <td>669 Spruce St, Los Angeles, CA 90001</td>\n",
       "      <td>4</td>\n",
       "    </tr>\n",
       "    <tr>\n",
       "      <th>4</th>\n",
       "      <td>176560</td>\n",
       "      <td>Wired Headphones</td>\n",
       "      <td>1</td>\n",
       "      <td>11.99</td>\n",
       "      <td>04/12/19 14:38</td>\n",
       "      <td>669 Spruce St, Los Angeles, CA 90001</td>\n",
       "      <td>4</td>\n",
       "    </tr>\n",
       "    <tr>\n",
       "      <th>5</th>\n",
       "      <td>176561</td>\n",
       "      <td>Wired Headphones</td>\n",
       "      <td>1</td>\n",
       "      <td>11.99</td>\n",
       "      <td>04/30/19 09:27</td>\n",
       "      <td>333 8th St, Los Angeles, CA 90001</td>\n",
       "      <td>4</td>\n",
       "    </tr>\n",
       "  </tbody>\n",
       "</table>\n",
       "</div>"
      ],
      "text/plain": [
       "  Order ID                     Product Quantity Ordered Price Each  \\\n",
       "0   176558        USB-C Charging Cable                2      11.95   \n",
       "2   176559  Bose SoundSport Headphones                1      99.99   \n",
       "3   176560                Google Phone                1        600   \n",
       "4   176560            Wired Headphones                1      11.99   \n",
       "5   176561            Wired Headphones                1      11.99   \n",
       "\n",
       "       Order Date                      Purchase Address  Month  \n",
       "0  04/19/19 08:46          917 1st St, Dallas, TX 75001      4  \n",
       "2  04/07/19 22:30     682 Chestnut St, Boston, MA 02215      4  \n",
       "3  04/12/19 14:38  669 Spruce St, Los Angeles, CA 90001      4  \n",
       "4  04/12/19 14:38  669 Spruce St, Los Angeles, CA 90001      4  \n",
       "5  04/30/19 09:27     333 8th St, Los Angeles, CA 90001      4  "
      ]
     },
     "execution_count": 7,
     "metadata": {},
     "output_type": "execute_result"
    }
   ],
   "source": [
    "total_data['Month'] = total_data['Order Date'].str[0:2]\n",
    "total_data['Month'] = total_data['Month'].astype('int32')\n",
    "total_data.head()"
   ]
  },
  {
   "cell_type": "markdown",
   "id": "ff3317cb-c970-4ebc-8158-68d301d33898",
   "metadata": {},
   "source": [
    "#### Covert columns to the correct type"
   ]
  },
  {
   "cell_type": "code",
   "execution_count": 8,
   "id": "56828dbb-2ed4-4bb8-878f-65616b7b3bcc",
   "metadata": {},
   "outputs": [],
   "source": [
    "total_data['Quantity Ordered'] = pd.to_numeric(total_data['Quantity Ordered'])\n",
    "total_data['Price Each'] = pd.to_numeric(total_data['Price Each'])"
   ]
  },
  {
   "cell_type": "markdown",
   "id": "12547e8c-92ad-4e47-b748-f518d71125b3",
   "metadata": {},
   "source": [
    "#### Add a sales column"
   ]
  },
  {
   "cell_type": "code",
   "execution_count": 18,
   "id": "381fc3f6-51c7-4523-829b-7823ba554909",
   "metadata": {},
   "outputs": [
    {
     "data": {
      "text/html": [
       "<div>\n",
       "<style scoped>\n",
       "    .dataframe tbody tr th:only-of-type {\n",
       "        vertical-align: middle;\n",
       "    }\n",
       "\n",
       "    .dataframe tbody tr th {\n",
       "        vertical-align: top;\n",
       "    }\n",
       "\n",
       "    .dataframe thead th {\n",
       "        text-align: right;\n",
       "    }\n",
       "</style>\n",
       "<table border=\"1\" class=\"dataframe\">\n",
       "  <thead>\n",
       "    <tr style=\"text-align: right;\">\n",
       "      <th></th>\n",
       "      <th>Order ID</th>\n",
       "      <th>Product</th>\n",
       "      <th>Quantity Ordered</th>\n",
       "      <th>Price Each</th>\n",
       "      <th>Order Date</th>\n",
       "      <th>Purchase Address</th>\n",
       "      <th>Month</th>\n",
       "      <th>Sales</th>\n",
       "    </tr>\n",
       "  </thead>\n",
       "  <tbody>\n",
       "    <tr>\n",
       "      <th>0</th>\n",
       "      <td>176558</td>\n",
       "      <td>USB-C Charging Cable</td>\n",
       "      <td>2</td>\n",
       "      <td>11.95</td>\n",
       "      <td>04/19/19 08:46</td>\n",
       "      <td>917 1st St, Dallas, TX 75001</td>\n",
       "      <td>4</td>\n",
       "      <td>23.90</td>\n",
       "    </tr>\n",
       "    <tr>\n",
       "      <th>2</th>\n",
       "      <td>176559</td>\n",
       "      <td>Bose SoundSport Headphones</td>\n",
       "      <td>1</td>\n",
       "      <td>99.99</td>\n",
       "      <td>04/07/19 22:30</td>\n",
       "      <td>682 Chestnut St, Boston, MA 02215</td>\n",
       "      <td>4</td>\n",
       "      <td>99.99</td>\n",
       "    </tr>\n",
       "    <tr>\n",
       "      <th>3</th>\n",
       "      <td>176560</td>\n",
       "      <td>Google Phone</td>\n",
       "      <td>1</td>\n",
       "      <td>600.00</td>\n",
       "      <td>04/12/19 14:38</td>\n",
       "      <td>669 Spruce St, Los Angeles, CA 90001</td>\n",
       "      <td>4</td>\n",
       "      <td>600.00</td>\n",
       "    </tr>\n",
       "    <tr>\n",
       "      <th>4</th>\n",
       "      <td>176560</td>\n",
       "      <td>Wired Headphones</td>\n",
       "      <td>1</td>\n",
       "      <td>11.99</td>\n",
       "      <td>04/12/19 14:38</td>\n",
       "      <td>669 Spruce St, Los Angeles, CA 90001</td>\n",
       "      <td>4</td>\n",
       "      <td>11.99</td>\n",
       "    </tr>\n",
       "    <tr>\n",
       "      <th>5</th>\n",
       "      <td>176561</td>\n",
       "      <td>Wired Headphones</td>\n",
       "      <td>1</td>\n",
       "      <td>11.99</td>\n",
       "      <td>04/30/19 09:27</td>\n",
       "      <td>333 8th St, Los Angeles, CA 90001</td>\n",
       "      <td>4</td>\n",
       "      <td>11.99</td>\n",
       "    </tr>\n",
       "  </tbody>\n",
       "</table>\n",
       "</div>"
      ],
      "text/plain": [
       "  Order ID                     Product  Quantity Ordered  Price Each  \\\n",
       "0   176558        USB-C Charging Cable                 2       11.95   \n",
       "2   176559  Bose SoundSport Headphones                 1       99.99   \n",
       "3   176560                Google Phone                 1      600.00   \n",
       "4   176560            Wired Headphones                 1       11.99   \n",
       "5   176561            Wired Headphones                 1       11.99   \n",
       "\n",
       "       Order Date                      Purchase Address  Month   Sales  \n",
       "0  04/19/19 08:46          917 1st St, Dallas, TX 75001      4   23.90  \n",
       "2  04/07/19 22:30     682 Chestnut St, Boston, MA 02215      4   99.99  \n",
       "3  04/12/19 14:38  669 Spruce St, Los Angeles, CA 90001      4  600.00  \n",
       "4  04/12/19 14:38  669 Spruce St, Los Angeles, CA 90001      4   11.99  \n",
       "5  04/30/19 09:27     333 8th St, Los Angeles, CA 90001      4   11.99  "
      ]
     },
     "execution_count": 18,
     "metadata": {},
     "output_type": "execute_result"
    }
   ],
   "source": [
    "total_data['Sales'] = total_data['Quantity Ordered'] * total_data['Price Each']\n",
    "total_data.head()"
   ]
  },
  {
   "cell_type": "markdown",
   "id": "ddd3f024-db87-4c15-9f3c-7d8710a586f8",
   "metadata": {},
   "source": [
    "#### Add a city&state column"
   ]
  },
  {
   "cell_type": "code",
   "execution_count": 38,
   "id": "e39ed421-b110-47e2-9146-49291cb4972d",
   "metadata": {},
   "outputs": [
    {
     "data": {
      "text/html": [
       "<div>\n",
       "<style scoped>\n",
       "    .dataframe tbody tr th:only-of-type {\n",
       "        vertical-align: middle;\n",
       "    }\n",
       "\n",
       "    .dataframe tbody tr th {\n",
       "        vertical-align: top;\n",
       "    }\n",
       "\n",
       "    .dataframe thead th {\n",
       "        text-align: right;\n",
       "    }\n",
       "</style>\n",
       "<table border=\"1\" class=\"dataframe\">\n",
       "  <thead>\n",
       "    <tr style=\"text-align: right;\">\n",
       "      <th></th>\n",
       "      <th>Order ID</th>\n",
       "      <th>Product</th>\n",
       "      <th>Quantity Ordered</th>\n",
       "      <th>Price Each</th>\n",
       "      <th>Order Date</th>\n",
       "      <th>Purchase Address</th>\n",
       "      <th>Month</th>\n",
       "      <th>Sales</th>\n",
       "      <th>City</th>\n",
       "    </tr>\n",
       "  </thead>\n",
       "  <tbody>\n",
       "    <tr>\n",
       "      <th>0</th>\n",
       "      <td>176558</td>\n",
       "      <td>USB-C Charging Cable</td>\n",
       "      <td>2</td>\n",
       "      <td>11.95</td>\n",
       "      <td>04/19/19 08:46</td>\n",
       "      <td>917 1st St, Dallas, TX 75001</td>\n",
       "      <td>4</td>\n",
       "      <td>23.90</td>\n",
       "      <td>Dallas (TX)</td>\n",
       "    </tr>\n",
       "    <tr>\n",
       "      <th>2</th>\n",
       "      <td>176559</td>\n",
       "      <td>Bose SoundSport Headphones</td>\n",
       "      <td>1</td>\n",
       "      <td>99.99</td>\n",
       "      <td>04/07/19 22:30</td>\n",
       "      <td>682 Chestnut St, Boston, MA 02215</td>\n",
       "      <td>4</td>\n",
       "      <td>99.99</td>\n",
       "      <td>Boston (MA)</td>\n",
       "    </tr>\n",
       "    <tr>\n",
       "      <th>3</th>\n",
       "      <td>176560</td>\n",
       "      <td>Google Phone</td>\n",
       "      <td>1</td>\n",
       "      <td>600.00</td>\n",
       "      <td>04/12/19 14:38</td>\n",
       "      <td>669 Spruce St, Los Angeles, CA 90001</td>\n",
       "      <td>4</td>\n",
       "      <td>600.00</td>\n",
       "      <td>Los Angeles (CA)</td>\n",
       "    </tr>\n",
       "    <tr>\n",
       "      <th>4</th>\n",
       "      <td>176560</td>\n",
       "      <td>Wired Headphones</td>\n",
       "      <td>1</td>\n",
       "      <td>11.99</td>\n",
       "      <td>04/12/19 14:38</td>\n",
       "      <td>669 Spruce St, Los Angeles, CA 90001</td>\n",
       "      <td>4</td>\n",
       "      <td>11.99</td>\n",
       "      <td>Los Angeles (CA)</td>\n",
       "    </tr>\n",
       "    <tr>\n",
       "      <th>5</th>\n",
       "      <td>176561</td>\n",
       "      <td>Wired Headphones</td>\n",
       "      <td>1</td>\n",
       "      <td>11.99</td>\n",
       "      <td>04/30/19 09:27</td>\n",
       "      <td>333 8th St, Los Angeles, CA 90001</td>\n",
       "      <td>4</td>\n",
       "      <td>11.99</td>\n",
       "      <td>Los Angeles (CA)</td>\n",
       "    </tr>\n",
       "  </tbody>\n",
       "</table>\n",
       "</div>"
      ],
      "text/plain": [
       "  Order ID                     Product  Quantity Ordered  Price Each  \\\n",
       "0   176558        USB-C Charging Cable                 2       11.95   \n",
       "2   176559  Bose SoundSport Headphones                 1       99.99   \n",
       "3   176560                Google Phone                 1      600.00   \n",
       "4   176560            Wired Headphones                 1       11.99   \n",
       "5   176561            Wired Headphones                 1       11.99   \n",
       "\n",
       "       Order Date                      Purchase Address  Month   Sales  \\\n",
       "0  04/19/19 08:46          917 1st St, Dallas, TX 75001      4   23.90   \n",
       "2  04/07/19 22:30     682 Chestnut St, Boston, MA 02215      4   99.99   \n",
       "3  04/12/19 14:38  669 Spruce St, Los Angeles, CA 90001      4  600.00   \n",
       "4  04/12/19 14:38  669 Spruce St, Los Angeles, CA 90001      4   11.99   \n",
       "5  04/30/19 09:27     333 8th St, Los Angeles, CA 90001      4   11.99   \n",
       "\n",
       "                City  \n",
       "0        Dallas (TX)  \n",
       "2        Boston (MA)  \n",
       "3   Los Angeles (CA)  \n",
       "4   Los Angeles (CA)  \n",
       "5   Los Angeles (CA)  "
      ]
     },
     "execution_count": 38,
     "metadata": {},
     "output_type": "execute_result"
    }
   ],
   "source": [
    "def get_city(address):\n",
    "    return address.split(',')[1]\n",
    "def get_state(address):\n",
    "    return address.split(',')[2].split(' ')[1]\n",
    "\n",
    "total_data['City'] = total_data['Purchase Address'].apply(lambda x: f\"{get_city(x)} ({get_state(x)})\")\n",
    "total_data.head()"
   ]
  },
  {
   "cell_type": "markdown",
   "id": "7ab7e1a1-74bb-49b2-82f5-61858cb91366",
   "metadata": {},
   "source": [
    "#### Q1: What's the best month for sales? How much was earned for that month?"
   ]
  },
  {
   "cell_type": "code",
   "execution_count": 23,
   "id": "5423e2e2-c940-4072-b693-659cab2f1f81",
   "metadata": {},
   "outputs": [
    {
     "data": {
      "text/plain": [
       "Month\n",
       "1     1822256.73\n",
       "2     2202022.42\n",
       "3     2807100.38\n",
       "4     3390670.24\n",
       "5     3152606.75\n",
       "6     2577802.26\n",
       "7     2647775.76\n",
       "8     2244467.88\n",
       "9     2097560.13\n",
       "10    3736726.88\n",
       "11    3199603.20\n",
       "12    4613443.34\n",
       "Name: Sales, dtype: float64"
      ]
     },
     "execution_count": 23,
     "metadata": {},
     "output_type": "execute_result"
    }
   ],
   "source": [
    "result = total_data.groupby('Month').sum()\n",
    "result['Sales']"
   ]
  },
  {
   "cell_type": "code",
   "execution_count": 39,
   "id": "1882507c-54da-416f-81c8-096ddb4edbc7",
   "metadata": {},
   "outputs": [
    {
     "data": {
      "image/png": "[encoded data removed]",
      "text/plain": [
       "<Figure size 640x480 with 1 Axes>"
      ]
     },
     "metadata": {},
     "output_type": "display_data"
    }
   ],
   "source": [
    "import matplotlib.pyplot as plt\n",
    "\n",
    "months = range(1, 13)\n",
    "\n",
    "plt.bar(months, result['Sales'])\n",
    "plt.xticks(months)\n",
    "plt.ylabel('Sales in USD (Million)' )\n",
    "plt.xlabel('Month')\n",
    "plt.title('Sales for month')\n",
    "\n",
    "\n",
    "def millions(x, pos):\n",
    "    \"\"\"\n",
    "    Function to format the tick labels in millions.\n",
    "    :param x: The value of the tick.\n",
    "    :param pos: The position of the tick (not used here).\n",
    "    :return: A string representation of the value in millions.\n",
    "    \"\"\"\n",
    "    return '{:1.1f}M'.format(x*1e-6)\n",
    "\n",
    "plt.gca().yaxis.set_major_formatter(FuncFormatter(millions))\n",
    "\n",
    "plt.show()"
   ]
  },
  {
   "cell_type": "markdown",
   "id": "a117992f-b2c6-47ca-8f02-f73c38804afa",
   "metadata": {},
   "source": [
    "#### Q2: Which city has the hightest number of sales?"
   ]
  },
  {
   "cell_type": "code",
   "execution_count": 46,
   "id": "96c03b37-1712-4618-97a3-6cbed254e16d",
   "metadata": {},
   "outputs": [],
   "source": [
    "result1 = total_data.groupby('City').sum()"
   ]
  },
  {
   "cell_type": "code",
   "execution_count": 55,
   "id": "71a9c6ed-8361-408b-9cc0-4a1cdc3cd086",
   "metadata": {},
   "outputs": [
    {
     "data": {
      "image/png": "[encoded data removed]",
      "text/plain": [
       "<Figure size 640x480 with 1 Axes>"
      ]
     },
     "metadata": {},
     "output_type": "display_data"
    }
   ],
   "source": [
    "\n",
    "cities = [city for city, df in total_data.groupby('City')]\n",
    "\n",
    "plt.bar(cities, result1['Sales'])\n",
    "plt.xticks(cities, rotation='vertical', size=8)\n",
    "plt.ylabel('Sales in USD (Million)' )\n",
    "plt.xlabel('Month')\n",
    "plt.title('Sales for month')\n",
    "\n",
    "\n",
    "\n",
    "plt.gca().yaxis.set_major_formatter(FuncFormatter(millions))\n",
    "\n",
    "plt.show()"
   ]
  },
  {
   "cell_type": "markdown",
   "id": "67b3b972-01dc-4dd4-86d2-d93f4193648d",
   "metadata": {},
   "source": [
    "#### Q3: What time should we advertise to maximize likelihood of custimoer's purchase?"
   ]
  },
  {
   "cell_type": "code",
   "execution_count": 85,
   "id": "6faa98c0-40aa-49c0-a2d3-7358d2b3c51b",
   "metadata": {},
   "outputs": [],
   "source": [
    "total_data['Order Date'] = pd.to_datetime(total_data['Order Date'])\n",
    "total_data['Hours'] = total_data['Order Date'].dt.hour\n",
    "total_data['Minutes'] = total_data['Order Date'].dt.minute\n",
    "total_data['Count'] = 1\n"
   ]
  },
  {
   "cell_type": "code",
   "execution_count": 86,
   "id": "9399e7d2-fe0d-4a7d-abaa-c78db4b9ddcc",
   "metadata": {},
   "outputs": [
    {
     "data": {
      "text/plain": [
       "[<matplotlib.lines.Line2D at 0x25f1d646990>,\n",
       " <matplotlib.lines.Line2D at 0x25f229d0410>,\n",
       " <matplotlib.lines.Line2D at 0x25f229d0550>,\n",
       " <matplotlib.lines.Line2D at 0x25f229d0690>,\n",
       " <matplotlib.lines.Line2D at 0x25f229d07d0>,\n",
       " <matplotlib.lines.Line2D at 0x25f229d0910>,\n",
       " <matplotlib.lines.Line2D at 0x25f229d0a50>,\n",
       " <matplotlib.lines.Line2D at 0x25f229d0b90>,\n",
       " <matplotlib.lines.Line2D at 0x25f229d0cd0>,\n",
       " <matplotlib.lines.Line2D at 0x25f229d0e10>,\n",
       " <matplotlib.lines.Line2D at 0x25f229d0f50>]"
      ]
     },
     "execution_count": 86,
     "metadata": {},
     "output_type": "execute_result"
    },
    {
     "data": {
      "image/png": "[encoded data removed]",
      "text/plain": [
       "<Figure size 640x480 with 1 Axes>"
      ]
     },
     "metadata": {},
     "output_type": "display_data"
    }
   ],
   "source": [
    "hours = [hour for hour, df in total_data.groupby('Hours')]\n",
    "plt.xticks(hours)\n",
    "plt.grid()\n",
    "plt.xlabel('Hour')\n",
    "plt.ylabel('Number of Orders')\n",
    "plt.plot(hours, total_data.groupby(['Hours']).count())"
   ]
  },
  {
   "cell_type": "markdown",
   "id": "90096d24-2384-49d8-8f9a-74586c3564ae",
   "metadata": {},
   "source": [
    "#### A: 11-19 is a good time to advertise"
   ]
  },
  {
   "cell_type": "markdown",
   "id": "ba66ba2d-51dc-41cf-8856-b2dc0039c9dc",
   "metadata": {},
   "source": [
    "#### Q4: What products are the most often sold together? "
   ]
  },
  {
   "cell_type": "code",
   "execution_count": 87,
   "id": "0af3d14e-323f-4323-90a6-e233afdf0522",
   "metadata": {},
   "outputs": [
    {
     "name": "stderr",
     "output_type": "stream",
     "text": [
      "C:\\Users\\45235\\AppData\\Local\\Temp\\ipykernel_9928\\3317489472.py:2: SettingWithCopyWarning: \n",
      "A value is trying to be set on a copy of a slice from a DataFrame.\n",
      "Try using .loc[row_indexer,col_indexer] = value instead\n",
      "\n",
      "See the caveats in the documentation: https://pandas.pydata.org/pandas-docs/stable/user_guide/indexing.html#returning-a-view-versus-a-copy\n",
      "  df['Grouped'] = df.groupby('Order ID')['Product'].transform(lambda x: ', '.join(x))\n"
     ]
    },
    {
     "data": {
      "text/html": [
       "<div>\n",
       "<style scoped>\n",
       "    .dataframe tbody tr th:only-of-type {\n",
       "        vertical-align: middle;\n",
       "    }\n",
       "\n",
       "    .dataframe tbody tr th {\n",
       "        vertical-align: top;\n",
       "    }\n",
       "\n",
       "    .dataframe thead th {\n",
       "        text-align: right;\n",
       "    }\n",
       "</style>\n",
       "<table border=\"1\" class=\"dataframe\">\n",
       "  <thead>\n",
       "    <tr style=\"text-align: right;\">\n",
       "      <th></th>\n",
       "      <th>Order ID</th>\n",
       "      <th>Grouped</th>\n",
       "    </tr>\n",
       "  </thead>\n",
       "  <tbody>\n",
       "    <tr>\n",
       "      <th>3</th>\n",
       "      <td>176560</td>\n",
       "      <td>Google Phone, Wired Headphones</td>\n",
       "    </tr>\n",
       "    <tr>\n",
       "      <th>18</th>\n",
       "      <td>176574</td>\n",
       "      <td>Google Phone, USB-C Charging Cable</td>\n",
       "    </tr>\n",
       "    <tr>\n",
       "      <th>30</th>\n",
       "      <td>176585</td>\n",
       "      <td>Bose SoundSport Headphones, Bose SoundSport He...</td>\n",
       "    </tr>\n",
       "    <tr>\n",
       "      <th>32</th>\n",
       "      <td>176586</td>\n",
       "      <td>AAA Batteries (4-pack), Google Phone</td>\n",
       "    </tr>\n",
       "    <tr>\n",
       "      <th>119</th>\n",
       "      <td>176672</td>\n",
       "      <td>Lightning Charging Cable, USB-C Charging Cable</td>\n",
       "    </tr>\n",
       "  </tbody>\n",
       "</table>\n",
       "</div>"
      ],
      "text/plain": [
       "    Order ID                                            Grouped\n",
       "3     176560                     Google Phone, Wired Headphones\n",
       "18    176574                 Google Phone, USB-C Charging Cable\n",
       "30    176585  Bose SoundSport Headphones, Bose SoundSport He...\n",
       "32    176586               AAA Batteries (4-pack), Google Phone\n",
       "119   176672     Lightning Charging Cable, USB-C Charging Cable"
      ]
     },
     "execution_count": 87,
     "metadata": {},
     "output_type": "execute_result"
    }
   ],
   "source": [
    "df = total_data[total_data['Order ID'].duplicated(keep=False)]\n",
    "df['Grouped'] = df.groupby('Order ID')['Product'].transform(lambda x: ', '.join(x))\n",
    "df = df[['Order ID', 'Grouped']].drop_duplicates()\n",
    "df.head()"
   ]
  },
  {
   "cell_type": "code",
   "execution_count": 88,
   "id": "fddaeb9d-1365-4281-9fe9-57c1385bd612",
   "metadata": {},
   "outputs": [
    {
     "name": "stdout",
     "output_type": "stream",
     "text": [
      "('iPhone', ' Lightning Charging Cable') 1005\n",
      "('Google Phone', ' USB-C Charging Cable') 987\n",
      "('iPhone', ' Wired Headphones') 447\n",
      "('Google Phone', ' Wired Headphones') 414\n",
      "('Vareebadd Phone', ' USB-C Charging Cable') 361\n",
      "('iPhone', ' Apple Airpods Headphones') 360\n",
      "('Google Phone', ' Bose SoundSport Headphones') 220\n",
      "('Vareebadd Phone', ' Wired Headphones') 143\n",
      "(' USB-C Charging Cable', ' Wired Headphones') 120\n",
      "('Vareebadd Phone', ' Bose SoundSport Headphones') 80\n"
     ]
    }
   ],
   "source": [
    "from itertools import combinations\n",
    "from collections import Counter\n",
    "\n",
    "counter = Counter()\n",
    "\n",
    "for row in df['Grouped']:\n",
    "    row_list = row.split(',')\n",
    "    counter.update(Counter(combinations(row_list, 2)))\n",
    "\n",
    "for key, value in counter.most_common(10):\n",
    "    print(key, value)"
   ]
  },
  {
   "cell_type": "markdown",
   "id": "0cc0b06e-7263-4ee0-80da-7feee99e6c15",
   "metadata": {},
   "source": [
    "#### Q5: What product sold the most? "
   ]
  },
  {
   "cell_type": "code",
   "execution_count": 103,
   "id": "b473eea2-1e4a-41c6-b838-e4168548d628",
   "metadata": {},
   "outputs": [
    {
     "data": {
      "image/png": "[encoded data removed]",
      "text/plain": [
       "<Figure size 640x480 with 1 Axes>"
      ]
     },
     "metadata": {},
     "output_type": "display_data"
    }
   ],
   "source": [
    "\n",
    "product_group = total_data.groupby('Product')\n",
    "\n",
    "quantity_ordered = product_group.count()['Quantity Ordered']\n",
    "\n",
    "products = [product for product, df in product_group]\n",
    "\n",
    "plt.bar(products, quantity_ordered)\n",
    "plt.ylabel('Quantity Ordered')\n",
    "plt.xlabel('Product')\n",
    "plt.xticks(products, rotation='vertical', size=8)\n",
    "plt.show()"
   ]
  },
  {
   "cell_type": "code",
   "execution_count": null,
   "id": "6c272a3d-d74f-41de-b062-4dd8aa8f81a3",
   "metadata": {},
   "outputs": [],
   "source": []
  },
  {
   "cell_type": "code",
   "execution_count": null,
   "id": "725d7361-4d3d-4260-bb39-0389cf1b6390",
   "metadata": {},
   "outputs": [],
   "source": []
  }
 ],
 "metadata": {
  "kernelspec": {
   "display_name": "Python 3 (ipykernel)",
   "language": "python",
   "name": "python3"
  },
  "language_info": {
   "codemirror_mode": {
    "name": "ipython",
    "version": 3
   },
   "file_extension": ".py",
   "mimetype": "text/x-python",
   "name": "python",
   "nbconvert_exporter": "python",
   "pygments_lexer": "ipython3",
   "version": "3.13.0"
  }
 },
 "nbformat": 4,
 "nbformat_minor": 5
}
